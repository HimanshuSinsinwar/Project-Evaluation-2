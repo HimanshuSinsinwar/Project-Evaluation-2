{
 "cells": [
  {
   "cell_type": "markdown",
   "metadata": {},
   "source": [
    "Context\n",
    "I was looking for an unused and interesting dataset to improve my data science skills on when my professor mentioned the Sloan Digital Sky Survey which offers public data of space observations. As I found the data to be super insightful I want to share the data.\n",
    "\n",
    "Content\n",
    "The data consists of 10,000 observations of space taken by the SDSS. Every observation is described by 17 feature columns and 1 class column which identifies it to be either a star, galaxy or quasar.\n",
    "\n",
    "\n",
    "\n",
    "Dataset available\n",
    "\n",
    "\n",
    "\n",
    "https://raw.githubusercontent.com/dsrscientist/dataset1/master/Skyserver.csv\n",
    "\n",
    "\n",
    "\n",
    "Feature Description\n",
    "The table results from a query which joins two tables (actuaclly views): \"PhotoObj\" which contains photometric data and \"SpecObj\" which contains spectral data.\n",
    "\n",
    "To ease your start with the data you can read the feature descriptions below:\n",
    "\n",
    "View \"PhotoObj\"\n",
    "objid = Object Identifier\n",
    "ra = J2000 Right Ascension (r-band)\n",
    "dec = J2000 Declination (r-band)\n",
    "Right ascension (abbreviated RA) is the angular distance measured eastward along the celestial equator from the Sun at the March equinox to the hour circle of the point above the earth in question. When paired with declination (abbreviated dec), these astronomical coordinates specify the direction of a point on the celestial sphere (traditionally called in English the skies or the sky) in the equatorial coordinate system.\n",
    "\n",
    "Source: https://en.wikipedia.org/wiki/Right_ascension\n",
    "\n",
    "u = better of DeV/Exp magnitude fit\n",
    "g = better of DeV/Exp magnitude fit\n",
    "r = better of DeV/Exp magnitude fit\n",
    "i = better of DeV/Exp magnitude fit\n",
    "z = better of DeV/Exp magnitude fit\n",
    "The Thuan-Gunn astronomic magnitude system. u, g, r, i, z represent the response of the 5 bands of the telescope.\n",
    "\n",
    "Further education: https://www.astro.umd.edu/~ssm/ASTR620/mags.html\n",
    "\n",
    "run = Run Number\n",
    "rereun = Rerun Number\n",
    "camcol = Camera column\n",
    "field = Field number\n",
    "Run, rerun, camcol and field are features which describe a field within an image taken by the SDSS. A field is basically a part of the entire image corresponding to 2048 by 1489 pixels. A field can be identified by:\n",
    "\n",
    "run number, which identifies the specific scan,\n",
    "the camera column, or \"camcol,\" a number from 1 to 6, identifying the scanline within the run, and\n",
    "the field number. The field number typically starts at 11 (after an initial rampup time), and can be as large as 800 for particularly long runs.\n",
    "An additional number, rerun, specifies how the image was processed.\n",
    "View \"SpecObj\"\n",
    "specobjid = Object Identifier\n",
    "class = object class (galaxy, star or quasar object)\n",
    "The class identifies an object to be either a galaxy, star or quasar. This will be the response variable which we will be trying to predict.\n",
    "\n",
    "redshift = Final Redshift\n",
    "plate = plate number\n",
    "mjd = MJD of observation\n",
    "fiberid = fiber ID\n",
    "In physics, redshift happens when light or other electromagnetic radiation from an object is increased in wavelength, or shifted to the red end of the spectrum.\n",
    "\n",
    "Each spectroscopic exposure employs a large, thin, circular metal plate that positions optical fibers via holes drilled at the locations of the images in the telescope focal plane. These fibers then feed into the spectrographs. Each plate has a unique serial number, which is called plate in views such as SpecObj in the CAS.\n",
    "\n",
    "Modified Julian Date, used to indicate the date that a given piece of SDSS data (image or spectrum) was taken.\n",
    "\n",
    "The SDSS spectrograph uses optical fibers to direct the light at the focal plane from individual objects to the slithead. Each object is assigned a corresponding fiberID.\n",
    "\n",
    "Further information on SDSS images and their attributes:\n",
    "\n",
    "http://www.sdss3.org/dr9/imaging/imaging_basics.php\n",
    "\n",
    "http://www.sdss3.org/dr8/glossary.php\n",
    "\n",
    "Acknowledgements\n",
    "The data released by the SDSS is under public domain. Its taken from the current data release RD14.\n",
    "\n",
    "More information about the license:\n",
    "\n",
    "http://www.sdss.org/science/image-gallery/\n",
    "\n",
    "It was acquired by querying the CasJobs database which contains all data published by the SDSS.\n",
    "\n",
    "The exact query can be found at:\n",
    "\n",
    "http://skyserver.sdss.org/CasJobs/ (Free account is required!)\n",
    "\n",
    "There are also other ways to get data from the SDSS catalogue. They can be found under:\n",
    "\n",
    "http://www.sdss.org/dr14/\n",
    "\n",
    "They really have a huge database which offers the possibility of creating all kinds of tables with respect to personal interests.\n",
    "\n",
    "Please don't hesitate to contact me regarding any questions or improvement suggestions. :-)\n",
    "\n",
    "Inspiration\n",
    "The dataset offers plenty of information about space to explore. Also the class column is the perfect target for classification practices!"
   ]
  },
  {
   "cell_type": "code",
   "execution_count": 58,
   "metadata": {},
   "outputs": [],
   "source": [
    "import numpy as np\n",
    "import matplotlib.pyplot as plt\n",
    "import pandas as pd\n",
    "import seaborn as sns\n",
    "import warnings\n",
    "warnings.filterwarnings('ignore')\n",
    "from sklearn.metrics import accuracy_score,classification_report,confusion_matrix,roc_auc_score,roc_curve\n",
    "from sklearn.linear_model import LinearRegression\n",
    "from sklearn.naive_bayes import GaussianNB\n",
    "from sklearn.svm import SVC\n",
    "from sklearn.tree import DecisionTreeRegressor\n",
    "from sklearn.ensemble import AdaBoostRegressor,GradientBoostingRegressor\n",
    "from sklearn.preprocessing import LabelEncoder,StandardScaler\n",
    "from sklearn.neighbors import KNeighborsRegressor\n",
    "from sklearn.metrics import r2_score,mean_absolute_error,mean_squared_error\n",
    "from sklearn.model_selection import cross_val_score,train_test_split,GridSearchCV\n",
    "from sklearn.externals import joblib\n",
    "from sklearn.decomposition import PCA\n",
    "from scipy.stats import zscore\n",
    "from sklearn.metrics import accuracy_score,confusion_matrix,roc_auc_score,roc_curve\n",
    "from sklearn.linear_model import LogisticRegression\n",
    "from sklearn.naive_bayes import MultinomialNB\n",
    "from sklearn.neighbors import KNeighborsClassifier\n",
    "from sklearn.svm import SVC\n",
    "from sklearn.tree import DecisionTreeClassifier\n",
    "from sklearn.ensemble import AdaBoostClassifier,GradientBoostingClassifier\n",
    "from sklearn.ensemble import RandomForestClassifier"
   ]
  },
  {
   "cell_type": "code",
   "execution_count": 59,
   "metadata": {},
   "outputs": [
    {
     "data": {
      "text/html": [
       "<div>\n",
       "<style scoped>\n",
       "    .dataframe tbody tr th:only-of-type {\n",
       "        vertical-align: middle;\n",
       "    }\n",
       "\n",
       "    .dataframe tbody tr th {\n",
       "        vertical-align: top;\n",
       "    }\n",
       "\n",
       "    .dataframe thead th {\n",
       "        text-align: right;\n",
       "    }\n",
       "</style>\n",
       "<table border=\"1\" class=\"dataframe\">\n",
       "  <thead>\n",
       "    <tr style=\"text-align: right;\">\n",
       "      <th></th>\n",
       "      <th>objid</th>\n",
       "      <th>ra</th>\n",
       "      <th>dec</th>\n",
       "      <th>u</th>\n",
       "      <th>g</th>\n",
       "      <th>r</th>\n",
       "      <th>i</th>\n",
       "      <th>z</th>\n",
       "      <th>run</th>\n",
       "      <th>rerun</th>\n",
       "      <th>camcol</th>\n",
       "      <th>field</th>\n",
       "      <th>specobjid</th>\n",
       "      <th>class</th>\n",
       "      <th>redshift</th>\n",
       "      <th>plate</th>\n",
       "      <th>mjd</th>\n",
       "      <th>fiberid</th>\n",
       "    </tr>\n",
       "  </thead>\n",
       "  <tbody>\n",
       "    <tr>\n",
       "      <th>0</th>\n",
       "      <td>1237650000000000000</td>\n",
       "      <td>183.531326</td>\n",
       "      <td>0.089693</td>\n",
       "      <td>19.47406</td>\n",
       "      <td>17.04240</td>\n",
       "      <td>15.94699</td>\n",
       "      <td>15.50342</td>\n",
       "      <td>15.22531</td>\n",
       "      <td>752</td>\n",
       "      <td>301</td>\n",
       "      <td>4</td>\n",
       "      <td>267</td>\n",
       "      <td>3722360000000000000</td>\n",
       "      <td>STAR</td>\n",
       "      <td>-0.000009</td>\n",
       "      <td>3306</td>\n",
       "      <td>54922</td>\n",
       "      <td>491</td>\n",
       "    </tr>\n",
       "    <tr>\n",
       "      <th>1</th>\n",
       "      <td>1237650000000000000</td>\n",
       "      <td>183.598370</td>\n",
       "      <td>0.135285</td>\n",
       "      <td>18.66280</td>\n",
       "      <td>17.21449</td>\n",
       "      <td>16.67637</td>\n",
       "      <td>16.48922</td>\n",
       "      <td>16.39150</td>\n",
       "      <td>752</td>\n",
       "      <td>301</td>\n",
       "      <td>4</td>\n",
       "      <td>267</td>\n",
       "      <td>363814000000000000</td>\n",
       "      <td>STAR</td>\n",
       "      <td>-0.000055</td>\n",
       "      <td>323</td>\n",
       "      <td>51615</td>\n",
       "      <td>541</td>\n",
       "    </tr>\n",
       "    <tr>\n",
       "      <th>2</th>\n",
       "      <td>1237650000000000000</td>\n",
       "      <td>183.680207</td>\n",
       "      <td>0.126185</td>\n",
       "      <td>19.38298</td>\n",
       "      <td>18.19169</td>\n",
       "      <td>17.47428</td>\n",
       "      <td>17.08732</td>\n",
       "      <td>16.80125</td>\n",
       "      <td>752</td>\n",
       "      <td>301</td>\n",
       "      <td>4</td>\n",
       "      <td>268</td>\n",
       "      <td>323274000000000000</td>\n",
       "      <td>GALAXY</td>\n",
       "      <td>0.123111</td>\n",
       "      <td>287</td>\n",
       "      <td>52023</td>\n",
       "      <td>513</td>\n",
       "    </tr>\n",
       "    <tr>\n",
       "      <th>3</th>\n",
       "      <td>1237650000000000000</td>\n",
       "      <td>183.870529</td>\n",
       "      <td>0.049911</td>\n",
       "      <td>17.76536</td>\n",
       "      <td>16.60272</td>\n",
       "      <td>16.16116</td>\n",
       "      <td>15.98233</td>\n",
       "      <td>15.90438</td>\n",
       "      <td>752</td>\n",
       "      <td>301</td>\n",
       "      <td>4</td>\n",
       "      <td>269</td>\n",
       "      <td>3722370000000000000</td>\n",
       "      <td>STAR</td>\n",
       "      <td>-0.000111</td>\n",
       "      <td>3306</td>\n",
       "      <td>54922</td>\n",
       "      <td>510</td>\n",
       "    </tr>\n",
       "    <tr>\n",
       "      <th>4</th>\n",
       "      <td>1237650000000000000</td>\n",
       "      <td>183.883288</td>\n",
       "      <td>0.102557</td>\n",
       "      <td>17.55025</td>\n",
       "      <td>16.26342</td>\n",
       "      <td>16.43869</td>\n",
       "      <td>16.55492</td>\n",
       "      <td>16.61326</td>\n",
       "      <td>752</td>\n",
       "      <td>301</td>\n",
       "      <td>4</td>\n",
       "      <td>269</td>\n",
       "      <td>3722370000000000000</td>\n",
       "      <td>STAR</td>\n",
       "      <td>0.000590</td>\n",
       "      <td>3306</td>\n",
       "      <td>54922</td>\n",
       "      <td>512</td>\n",
       "    </tr>\n",
       "  </tbody>\n",
       "</table>\n",
       "</div>"
      ],
      "text/plain": [
       "                 objid          ra       dec         u         g         r  \\\n",
       "0  1237650000000000000  183.531326  0.089693  19.47406  17.04240  15.94699   \n",
       "1  1237650000000000000  183.598370  0.135285  18.66280  17.21449  16.67637   \n",
       "2  1237650000000000000  183.680207  0.126185  19.38298  18.19169  17.47428   \n",
       "3  1237650000000000000  183.870529  0.049911  17.76536  16.60272  16.16116   \n",
       "4  1237650000000000000  183.883288  0.102557  17.55025  16.26342  16.43869   \n",
       "\n",
       "          i         z  run  rerun  camcol  field            specobjid   class  \\\n",
       "0  15.50342  15.22531  752    301       4    267  3722360000000000000    STAR   \n",
       "1  16.48922  16.39150  752    301       4    267   363814000000000000    STAR   \n",
       "2  17.08732  16.80125  752    301       4    268   323274000000000000  GALAXY   \n",
       "3  15.98233  15.90438  752    301       4    269  3722370000000000000    STAR   \n",
       "4  16.55492  16.61326  752    301       4    269  3722370000000000000    STAR   \n",
       "\n",
       "   redshift  plate    mjd  fiberid  \n",
       "0 -0.000009   3306  54922      491  \n",
       "1 -0.000055    323  51615      541  \n",
       "2  0.123111    287  52023      513  \n",
       "3 -0.000111   3306  54922      510  \n",
       "4  0.000590   3306  54922      512  "
      ]
     },
     "execution_count": 59,
     "metadata": {},
     "output_type": "execute_result"
    }
   ],
   "source": [
    "#loading dataset\n",
    "SpaceServer= pd.read_excel('Space Server.xlsx')\n",
    "avacado.head()"
   ]
  },
  {
   "cell_type": "code",
   "execution_count": 60,
   "metadata": {},
   "outputs": [
    {
     "data": {
      "text/plain": [
       "Index(['objid', 'ra', 'dec', 'u', 'g', 'r', 'i', 'z', 'run', 'rerun', 'camcol',\n",
       "       'field', 'specobjid', 'class', 'redshift', 'plate', 'mjd', 'fiberid'],\n",
       "      dtype='object')"
      ]
     },
     "execution_count": 60,
     "metadata": {},
     "output_type": "execute_result"
    }
   ],
   "source": [
    "SpaceServer.shape\n",
    "SpaceServer.columns"
   ]
  },
  {
   "cell_type": "code",
   "execution_count": 61,
   "metadata": {},
   "outputs": [
    {
     "data": {
      "text/plain": [
       "objid          int64\n",
       "ra           float64\n",
       "dec          float64\n",
       "u            float64\n",
       "g            float64\n",
       "r            float64\n",
       "i            float64\n",
       "z            float64\n",
       "run            int64\n",
       "rerun          int64\n",
       "camcol         int64\n",
       "field          int64\n",
       "specobjid     uint64\n",
       "class         object\n",
       "redshift     float64\n",
       "plate          int64\n",
       "mjd            int64\n",
       "fiberid        int64\n",
       "dtype: object"
      ]
     },
     "execution_count": 61,
     "metadata": {},
     "output_type": "execute_result"
    }
   ],
   "source": [
    "SpaceServer.dtypes"
   ]
  },
  {
   "cell_type": "code",
   "execution_count": 62,
   "metadata": {},
   "outputs": [
    {
     "data": {
      "text/html": [
       "<div>\n",
       "<style scoped>\n",
       "    .dataframe tbody tr th:only-of-type {\n",
       "        vertical-align: middle;\n",
       "    }\n",
       "\n",
       "    .dataframe tbody tr th {\n",
       "        vertical-align: top;\n",
       "    }\n",
       "\n",
       "    .dataframe thead th {\n",
       "        text-align: right;\n",
       "    }\n",
       "</style>\n",
       "<table border=\"1\" class=\"dataframe\">\n",
       "  <thead>\n",
       "    <tr style=\"text-align: right;\">\n",
       "      <th></th>\n",
       "      <th>class</th>\n",
       "      <th>redshift</th>\n",
       "      <th>plate</th>\n",
       "      <th>mjd</th>\n",
       "      <th>fiberid</th>\n",
       "    </tr>\n",
       "  </thead>\n",
       "  <tbody>\n",
       "    <tr>\n",
       "      <th>0</th>\n",
       "      <td>STAR</td>\n",
       "      <td>-0.000009</td>\n",
       "      <td>3306</td>\n",
       "      <td>54922</td>\n",
       "      <td>491</td>\n",
       "    </tr>\n",
       "    <tr>\n",
       "      <th>1</th>\n",
       "      <td>STAR</td>\n",
       "      <td>-0.000055</td>\n",
       "      <td>323</td>\n",
       "      <td>51615</td>\n",
       "      <td>541</td>\n",
       "    </tr>\n",
       "    <tr>\n",
       "      <th>2</th>\n",
       "      <td>GALAXY</td>\n",
       "      <td>0.123111</td>\n",
       "      <td>287</td>\n",
       "      <td>52023</td>\n",
       "      <td>513</td>\n",
       "    </tr>\n",
       "    <tr>\n",
       "      <th>3</th>\n",
       "      <td>STAR</td>\n",
       "      <td>-0.000111</td>\n",
       "      <td>3306</td>\n",
       "      <td>54922</td>\n",
       "      <td>510</td>\n",
       "    </tr>\n",
       "    <tr>\n",
       "      <th>4</th>\n",
       "      <td>STAR</td>\n",
       "      <td>0.000590</td>\n",
       "      <td>3306</td>\n",
       "      <td>54922</td>\n",
       "      <td>512</td>\n",
       "    </tr>\n",
       "  </tbody>\n",
       "</table>\n",
       "</div>"
      ],
      "text/plain": [
       "    class  redshift  plate    mjd  fiberid\n",
       "0    STAR -0.000009   3306  54922      491\n",
       "1    STAR -0.000055    323  51615      541\n",
       "2  GALAXY  0.123111    287  52023      513\n",
       "3    STAR -0.000111   3306  54922      510\n",
       "4    STAR  0.000590   3306  54922      512"
      ]
     },
     "execution_count": 62,
     "metadata": {},
     "output_type": "execute_result"
    }
   ],
   "source": [
    "SpaceServer.drop(['objid','ra','dec','u','g','r','i','z','run','rerun','camcol','field','specobjid'], inplace=True,axis=1)\n",
    "SpaceServer.head()"
   ]
  },
  {
   "cell_type": "code",
   "execution_count": 63,
   "metadata": {
    "scrolled": true
   },
   "outputs": [
    {
     "data": {
      "text/plain": [
       "<matplotlib.axes._subplots.AxesSubplot at 0xc59e7c8>"
      ]
     },
     "execution_count": 63,
     "metadata": {},
     "output_type": "execute_result"
    },
    {
     "data": {
      "image/png": "[encoded data removed]",
      "text/plain": [
       "<Figure size 432x288 with 2 Axes>"
      ]
     },
     "metadata": {
      "needs_background": "light"
     },
     "output_type": "display_data"
    }
   ],
   "source": [
    "sns.heatmap(SpaceServer.isnull())"
   ]
  },
  {
   "cell_type": "code",
   "execution_count": 64,
   "metadata": {},
   "outputs": [
    {
     "data": {
      "text/html": [
       "<div>\n",
       "<style scoped>\n",
       "    .dataframe tbody tr th:only-of-type {\n",
       "        vertical-align: middle;\n",
       "    }\n",
       "\n",
       "    .dataframe tbody tr th {\n",
       "        vertical-align: top;\n",
       "    }\n",
       "\n",
       "    .dataframe thead th {\n",
       "        text-align: right;\n",
       "    }\n",
       "</style>\n",
       "<table border=\"1\" class=\"dataframe\">\n",
       "  <thead>\n",
       "    <tr style=\"text-align: right;\">\n",
       "      <th></th>\n",
       "      <th>redshift</th>\n",
       "      <th>plate</th>\n",
       "      <th>mjd</th>\n",
       "      <th>fiberid</th>\n",
       "    </tr>\n",
       "  </thead>\n",
       "  <tbody>\n",
       "    <tr>\n",
       "      <th>count</th>\n",
       "      <td>10000.000000</td>\n",
       "      <td>10000.000000</td>\n",
       "      <td>10000.000000</td>\n",
       "      <td>10000.000000</td>\n",
       "    </tr>\n",
       "    <tr>\n",
       "      <th>mean</th>\n",
       "      <td>0.143726</td>\n",
       "      <td>1460.986400</td>\n",
       "      <td>52943.533300</td>\n",
       "      <td>353.069400</td>\n",
       "    </tr>\n",
       "    <tr>\n",
       "      <th>std</th>\n",
       "      <td>0.388774</td>\n",
       "      <td>1788.778371</td>\n",
       "      <td>1511.150651</td>\n",
       "      <td>206.298149</td>\n",
       "    </tr>\n",
       "    <tr>\n",
       "      <th>min</th>\n",
       "      <td>-0.004136</td>\n",
       "      <td>266.000000</td>\n",
       "      <td>51578.000000</td>\n",
       "      <td>1.000000</td>\n",
       "    </tr>\n",
       "    <tr>\n",
       "      <th>25%</th>\n",
       "      <td>0.000081</td>\n",
       "      <td>301.000000</td>\n",
       "      <td>51900.000000</td>\n",
       "      <td>186.750000</td>\n",
       "    </tr>\n",
       "    <tr>\n",
       "      <th>50%</th>\n",
       "      <td>0.042591</td>\n",
       "      <td>441.000000</td>\n",
       "      <td>51997.000000</td>\n",
       "      <td>351.000000</td>\n",
       "    </tr>\n",
       "    <tr>\n",
       "      <th>75%</th>\n",
       "      <td>0.092579</td>\n",
       "      <td>2559.000000</td>\n",
       "      <td>54468.000000</td>\n",
       "      <td>510.000000</td>\n",
       "    </tr>\n",
       "    <tr>\n",
       "      <th>max</th>\n",
       "      <td>5.353854</td>\n",
       "      <td>8410.000000</td>\n",
       "      <td>57481.000000</td>\n",
       "      <td>1000.000000</td>\n",
       "    </tr>\n",
       "  </tbody>\n",
       "</table>\n",
       "</div>"
      ],
      "text/plain": [
       "           redshift         plate           mjd       fiberid\n",
       "count  10000.000000  10000.000000  10000.000000  10000.000000\n",
       "mean       0.143726   1460.986400  52943.533300    353.069400\n",
       "std        0.388774   1788.778371   1511.150651    206.298149\n",
       "min       -0.004136    266.000000  51578.000000      1.000000\n",
       "25%        0.000081    301.000000  51900.000000    186.750000\n",
       "50%        0.042591    441.000000  51997.000000    351.000000\n",
       "75%        0.092579   2559.000000  54468.000000    510.000000\n",
       "max        5.353854   8410.000000  57481.000000   1000.000000"
      ]
     },
     "execution_count": 64,
     "metadata": {},
     "output_type": "execute_result"
    }
   ],
   "source": [
    "SpaceServer.describe()"
   ]
  },
  {
   "cell_type": "code",
   "execution_count": 65,
   "metadata": {},
   "outputs": [
    {
     "data": {
      "text/plain": [
       "array([[<matplotlib.axes._subplots.AxesSubplot object at 0x000000000EA2F788>,\n",
       "        <matplotlib.axes._subplots.AxesSubplot object at 0x000000000EAA3C08>],\n",
       "       [<matplotlib.axes._subplots.AxesSubplot object at 0x000000000ED052C8>,\n",
       "        <matplotlib.axes._subplots.AxesSubplot object at 0x000000000EE6D4C8>]],\n",
       "      dtype=object)"
      ]
     },
     "execution_count": 65,
     "metadata": {},
     "output_type": "execute_result"
    },
    {
     "data": {
      "image/png": "[encoded data removed]",
      "text/plain": [
       "<Figure size 1440x1440 with 4 Axes>"
      ]
     },
     "metadata": {
      "needs_background": "light"
     },
     "output_type": "display_data"
    }
   ],
   "source": [
    "SpaceServer.hist(figsize=(20,20),grid=True,layout=(2,2),bins=30)"
   ]
  },
  {
   "cell_type": "code",
   "execution_count": 66,
   "metadata": {},
   "outputs": [
    {
     "data": {
      "text/plain": [
       "redshift    4.265729\n",
       "plate       1.794609\n",
       "mjd         1.039610\n",
       "fiberid     0.308053\n",
       "dtype: float64"
      ]
     },
     "execution_count": 66,
     "metadata": {},
     "output_type": "execute_result"
    }
   ],
   "source": [
    "SpaceServer.skew()"
   ]
  },
  {
   "cell_type": "code",
   "execution_count": 67,
   "metadata": {},
   "outputs": [],
   "source": [
    "skew=('redshift','plate','mjd','fiberid')\n",
    "for col in skew:\n",
    "    if SpaceServer.skew().loc[col]>0.55:\n",
    "         SpaceServer[col]=np.log1p( SpaceServer[col])"
   ]
  },
  {
   "cell_type": "code",
   "execution_count": 68,
   "metadata": {},
   "outputs": [
    {
     "data": {
      "text/plain": [
       "redshift    3.513844\n",
       "plate       0.696680\n",
       "mjd         1.011097\n",
       "fiberid     0.308053\n",
       "dtype: float64"
      ]
     },
     "execution_count": 68,
     "metadata": {},
     "output_type": "execute_result"
    }
   ],
   "source": [
    "SpaceServer.skew()"
   ]
  },
  {
   "cell_type": "code",
   "execution_count": 69,
   "metadata": {},
   "outputs": [
    {
     "data": {
      "text/html": [
       "<div>\n",
       "<style scoped>\n",
       "    .dataframe tbody tr th:only-of-type {\n",
       "        vertical-align: middle;\n",
       "    }\n",
       "\n",
       "    .dataframe tbody tr th {\n",
       "        vertical-align: top;\n",
       "    }\n",
       "\n",
       "    .dataframe thead th {\n",
       "        text-align: right;\n",
       "    }\n",
       "</style>\n",
       "<table border=\"1\" class=\"dataframe\">\n",
       "  <thead>\n",
       "    <tr style=\"text-align: right;\">\n",
       "      <th></th>\n",
       "      <th>class</th>\n",
       "      <th>redshift</th>\n",
       "      <th>plate</th>\n",
       "      <th>mjd</th>\n",
       "      <th>fiberid</th>\n",
       "    </tr>\n",
       "  </thead>\n",
       "  <tbody>\n",
       "    <tr>\n",
       "      <th>0</th>\n",
       "      <td>2</td>\n",
       "      <td>-0.000009</td>\n",
       "      <td>8.103797</td>\n",
       "      <td>10.913687</td>\n",
       "      <td>491</td>\n",
       "    </tr>\n",
       "    <tr>\n",
       "      <th>1</th>\n",
       "      <td>2</td>\n",
       "      <td>-0.000055</td>\n",
       "      <td>5.780744</td>\n",
       "      <td>10.851587</td>\n",
       "      <td>541</td>\n",
       "    </tr>\n",
       "    <tr>\n",
       "      <th>2</th>\n",
       "      <td>0</td>\n",
       "      <td>0.116103</td>\n",
       "      <td>5.662960</td>\n",
       "      <td>10.859460</td>\n",
       "      <td>513</td>\n",
       "    </tr>\n",
       "    <tr>\n",
       "      <th>3</th>\n",
       "      <td>2</td>\n",
       "      <td>-0.000111</td>\n",
       "      <td>8.103797</td>\n",
       "      <td>10.913687</td>\n",
       "      <td>510</td>\n",
       "    </tr>\n",
       "    <tr>\n",
       "      <th>4</th>\n",
       "      <td>2</td>\n",
       "      <td>0.000590</td>\n",
       "      <td>8.103797</td>\n",
       "      <td>10.913687</td>\n",
       "      <td>512</td>\n",
       "    </tr>\n",
       "    <tr>\n",
       "      <th>...</th>\n",
       "      <td>...</td>\n",
       "      <td>...</td>\n",
       "      <td>...</td>\n",
       "      <td>...</td>\n",
       "      <td>...</td>\n",
       "    </tr>\n",
       "    <tr>\n",
       "      <th>9995</th>\n",
       "      <td>0</td>\n",
       "      <td>0.027209</td>\n",
       "      <td>6.104793</td>\n",
       "      <td>10.856650</td>\n",
       "      <td>246</td>\n",
       "    </tr>\n",
       "    <tr>\n",
       "      <th>9996</th>\n",
       "      <td>0</td>\n",
       "      <td>0.111338</td>\n",
       "      <td>6.104793</td>\n",
       "      <td>10.856650</td>\n",
       "      <td>228</td>\n",
       "    </tr>\n",
       "    <tr>\n",
       "      <th>9997</th>\n",
       "      <td>2</td>\n",
       "      <td>-0.000402</td>\n",
       "      <td>8.896177</td>\n",
       "      <td>10.951052</td>\n",
       "      <td>622</td>\n",
       "    </tr>\n",
       "    <tr>\n",
       "      <th>9998</th>\n",
       "      <td>0</td>\n",
       "      <td>0.013922</td>\n",
       "      <td>6.104793</td>\n",
       "      <td>10.856650</td>\n",
       "      <td>229</td>\n",
       "    </tr>\n",
       "    <tr>\n",
       "      <th>9999</th>\n",
       "      <td>0</td>\n",
       "      <td>0.111915</td>\n",
       "      <td>6.104793</td>\n",
       "      <td>10.856650</td>\n",
       "      <td>233</td>\n",
       "    </tr>\n",
       "  </tbody>\n",
       "</table>\n",
       "<p>10000 rows × 5 columns</p>\n",
       "</div>"
      ],
      "text/plain": [
       "      class  redshift     plate        mjd  fiberid\n",
       "0         2 -0.000009  8.103797  10.913687      491\n",
       "1         2 -0.000055  5.780744  10.851587      541\n",
       "2         0  0.116103  5.662960  10.859460      513\n",
       "3         2 -0.000111  8.103797  10.913687      510\n",
       "4         2  0.000590  8.103797  10.913687      512\n",
       "...     ...       ...       ...        ...      ...\n",
       "9995      0  0.027209  6.104793  10.856650      246\n",
       "9996      0  0.111338  6.104793  10.856650      228\n",
       "9997      2 -0.000402  8.896177  10.951052      622\n",
       "9998      0  0.013922  6.104793  10.856650      229\n",
       "9999      0  0.111915  6.104793  10.856650      233\n",
       "\n",
       "[10000 rows x 5 columns]"
      ]
     },
     "execution_count": 69,
     "metadata": {},
     "output_type": "execute_result"
    }
   ],
   "source": [
    "le= LabelEncoder()\n",
    "SpaceServer['class'] = le.fit_transform(SpaceServer['class'])\n",
    "SpaceServer"
   ]
  },
  {
   "cell_type": "code",
   "execution_count": 70,
   "metadata": {},
   "outputs": [],
   "source": [
    "z=np.abs(zscore(SpaceServer))"
   ]
  },
  {
   "cell_type": "code",
   "execution_count": 71,
   "metadata": {},
   "outputs": [
    {
     "name": "stdout",
     "output_type": "stream",
     "text": [
      "(array([  17,   45,  109,  129,  135,  156,  160,  199,  243,  259,  260,\n",
      "        281,  291,  301,  306,  308,  333,  433,  434,  435,  466,  477,\n",
      "        494,  533,  562,  597,  612,  664,  743,  744,  749,  751,  760,\n",
      "        774,  824,  833,  839,  898,  902,  905,  926,  927,  928,  931,\n",
      "        941,  973,  974,  984, 1044, 1054, 1055, 1076, 1081, 1105, 1115,\n",
      "       1145, 1152, 1156, 1169, 1179, 1186, 1187, 1191, 1193, 1201, 1241,\n",
      "       1309, 1318, 1373, 1457, 1469, 1495, 1514, 1521, 1534, 1537, 1559,\n",
      "       1579, 1605, 1621, 1629, 1656, 1710, 1728, 1736, 1741, 1832, 1839,\n",
      "       1847, 1876, 1905, 1962, 2064, 2096, 2115, 2136, 2166, 2247, 2280,\n",
      "       2301, 2313, 2319, 2413, 2431, 2491, 2492, 2498, 2533, 2543, 2559,\n",
      "       2568, 2598, 2615, 2620, 2626, 2627, 2635, 2690, 2701, 2704, 2757,\n",
      "       2799, 2803, 2804, 2808, 2817, 2819, 2832, 2852, 2856, 2884, 2893,\n",
      "       2897, 2906, 2907, 2944, 2960, 2965, 2970, 2976, 2997, 3028, 3029,\n",
      "       3086, 3093, 3098, 3116, 3135, 3141, 3142, 3145, 3147, 3151, 3158,\n",
      "       3171, 3214, 3268, 3270, 3286, 3289, 3295, 3306, 3365, 3372, 3376,\n",
      "       3415, 3442, 3447, 3479, 3485, 3487, 3535, 3555, 3575, 3611, 3617,\n",
      "       3619, 3633, 3685, 3692, 3747, 3761, 3772, 3790, 3824, 3844, 3859,\n",
      "       3864, 3865, 3899, 3901, 3903, 3904, 3915, 3924, 3925, 3929, 4038,\n",
      "       4041, 4070, 4106, 4163, 4174, 4196, 4210, 4213, 4226, 4246, 4253,\n",
      "       4254, 4284, 4288, 4311, 4312, 4313, 4314, 4316, 4319, 4322, 4323,\n",
      "       4338, 4350, 4384, 4387, 4391, 4417, 4430, 4540, 4557, 4573, 4583,\n",
      "       4593, 4596, 4612, 4622, 4639, 4640, 4649, 4666, 4667, 4672, 4684,\n",
      "       4690, 4691, 4712, 4745, 4768, 4777, 4876, 4881, 4888, 4895, 4912,\n",
      "       4913, 4927, 4971, 4982, 5008, 5065, 5081, 5082, 5085, 5086, 5099,\n",
      "       5134, 5190, 5214, 5222, 5272, 5273, 5278, 5320, 5322, 5355, 5357,\n",
      "       5370, 5381, 5396, 5406, 5443, 5458, 5522, 5576, 5580, 5610, 5613,\n",
      "       5626, 5629, 5634, 5668, 5673, 5678, 5703, 5712, 5718, 5752, 5798,\n",
      "       5800, 5837, 5841, 5843, 5846, 5848, 5849, 5851, 5852, 5865, 5912,\n",
      "       5930, 5978, 6018, 6026, 6043, 6050, 6058, 6084, 6120, 6125, 6140,\n",
      "       6143, 6149, 6161, 6164, 6186, 6188, 6209, 6212, 6214, 6230, 6286,\n",
      "       6289, 6290, 6299, 6303, 6375, 6379, 6461, 6478, 6500, 6509, 6510,\n",
      "       6528, 6540, 6550, 6571, 6598, 6625, 6714, 6720, 6740, 6743, 6751,\n",
      "       6762, 6787, 6790, 6813, 6839, 6878, 6887, 6961, 6962, 6983, 6991,\n",
      "       7052, 7053, 7064, 7074, 7106, 7139, 7161, 7242, 7243, 7263, 7292,\n",
      "       7311, 7317, 7321, 7322, 7325, 7327, 7406, 7428, 7441, 7444, 7448,\n",
      "       7465, 7467, 7470, 7561, 7566, 7600, 7604, 7621, 7622, 7632, 7660,\n",
      "       7691, 7708, 7714, 7724, 7743, 7782, 7810, 7826, 7875, 8003, 8008,\n",
      "       8056, 8072, 8074, 8133, 8140, 8141, 8148, 8193, 8229, 8270, 8283,\n",
      "       8288, 8312, 8314, 8459, 8479, 8517, 8525, 8551, 8554, 8559, 8572,\n",
      "       8580, 8590, 8621, 8700, 8747, 8754, 8760, 8803, 8848, 8887, 8924,\n",
      "       8932, 8946, 8949, 8953, 8959, 8960, 8961, 8963, 8966, 8969, 8971,\n",
      "       8994, 9010, 9014, 9021, 9067, 9103, 9105, 9154, 9159, 9170, 9193,\n",
      "       9195, 9220, 9221, 9261, 9351, 9352, 9360, 9364, 9403, 9411, 9414,\n",
      "       9421, 9422, 9436, 9492, 9518, 9531, 9533, 9549, 9561, 9567, 9574,\n",
      "       9595, 9647, 9680, 9682, 9731, 9750, 9756, 9769, 9779, 9806, 9828,\n",
      "       9834, 9835, 9852, 9864, 9870, 9910, 9910, 9940, 9956], dtype=int64), array([1, 1, 1, 1, 1, 1, 1, 4, 1, 1, 1, 1, 1, 1, 1, 1, 1, 1, 1, 1, 1, 1,\n",
      "       1, 1, 1, 1, 1, 1, 1, 1, 1, 1, 1, 1, 1, 1, 1, 1, 1, 1, 1, 1, 4, 1,\n",
      "       4, 1, 1, 1, 1, 1, 1, 1, 1, 1, 1, 1, 1, 1, 1, 1, 1, 1, 1, 1, 1, 1,\n",
      "       1, 1, 1, 1, 1, 1, 1, 1, 1, 1, 1, 1, 1, 1, 1, 1, 1, 1, 1, 1, 1, 1,\n",
      "       1, 1, 4, 1, 1, 1, 1, 1, 1, 1, 1, 1, 4, 1, 1, 1, 1, 1, 1, 1, 1, 1,\n",
      "       1, 1, 1, 1, 1, 1, 1, 1, 1, 1, 1, 4, 1, 1, 1, 1, 1, 1, 1, 1, 1, 1,\n",
      "       1, 4, 4, 1, 1, 1, 1, 1, 1, 1, 1, 1, 1, 1, 1, 1, 1, 1, 1, 1, 1, 1,\n",
      "       1, 1, 1, 1, 1, 1, 1, 1, 1, 1, 1, 4, 1, 4, 1, 1, 1, 1, 1, 1, 1, 1,\n",
      "       1, 1, 1, 1, 1, 1, 1, 1, 1, 1, 1, 1, 1, 1, 1, 1, 1, 1, 1, 1, 1, 1,\n",
      "       1, 1, 1, 1, 1, 1, 1, 1, 1, 1, 1, 1, 1, 1, 4, 4, 4, 4, 4, 4, 4, 1,\n",
      "       1, 1, 1, 4, 1, 1, 1, 1, 1, 1, 1, 1, 1, 1, 1, 1, 1, 1, 1, 1, 1, 1,\n",
      "       1, 1, 1, 1, 1, 1, 1, 1, 1, 1, 1, 1, 1, 1, 1, 1, 4, 1, 1, 1, 1, 1,\n",
      "       1, 1, 1, 1, 1, 1, 1, 1, 1, 1, 1, 1, 1, 1, 1, 1, 1, 1, 1, 1, 1, 1,\n",
      "       1, 1, 1, 1, 1, 1, 1, 4, 1, 1, 1, 1, 4, 4, 4, 4, 4, 4, 4, 4, 1, 1,\n",
      "       1, 1, 1, 1, 1, 1, 1, 1, 1, 1, 1, 1, 1, 1, 1, 1, 1, 1, 1, 1, 1, 1,\n",
      "       4, 4, 1, 1, 1, 1, 1, 1, 1, 1, 1, 1, 1, 1, 4, 1, 1, 1, 1, 1, 1, 1,\n",
      "       1, 1, 1, 1, 1, 1, 1, 1, 1, 1, 1, 1, 1, 1, 1, 1, 1, 1, 1, 1, 1, 1,\n",
      "       1, 1, 1, 1, 1, 1, 1, 1, 1, 1, 1, 1, 1, 4, 1, 1, 1, 1, 4, 4, 1, 4,\n",
      "       1, 1, 1, 1, 4, 1, 1, 1, 1, 1, 1, 1, 1, 1, 1, 1, 1, 1, 1, 1, 1, 1,\n",
      "       1, 1, 4, 1, 1, 1, 1, 1, 1, 1, 4, 1, 1, 1, 1, 1, 1, 1, 1, 4, 1, 1,\n",
      "       1, 1, 1, 1, 1, 4, 1, 1, 1, 1, 1, 1, 1, 1, 1, 1, 1, 1, 1, 1, 1, 1,\n",
      "       1, 1, 1, 1, 1, 4, 1, 1, 1, 1, 1, 1, 1, 1, 1, 1, 4, 1, 1, 1, 1, 1,\n",
      "       1, 1, 1, 1, 1, 1, 1, 1, 1, 1, 1, 1, 1, 1, 1, 1, 1, 4, 1, 1],\n",
      "      dtype=int64))\n"
     ]
    }
   ],
   "source": [
    "threshhold=3\n",
    "print(np.where(z>3))"
   ]
  },
  {
   "cell_type": "code",
   "execution_count": 72,
   "metadata": {},
   "outputs": [],
   "source": [
    "SpaceServer_new=SpaceServer[(z<3).all(axis=1)]"
   ]
  },
  {
   "cell_type": "code",
   "execution_count": 73,
   "metadata": {},
   "outputs": [
    {
     "name": "stdout",
     "output_type": "stream",
     "text": [
      "(10000, 5) \t (9497, 5)\n"
     ]
    }
   ],
   "source": [
    "print(SpaceServer.shape,'\\t',SpaceServer_new.shape)"
   ]
  },
  {
   "cell_type": "code",
   "execution_count": 74,
   "metadata": {},
   "outputs": [
    {
     "data": {
      "text/plain": [
       "[]"
      ]
     },
     "execution_count": 74,
     "metadata": {},
     "output_type": "execute_result"
    },
    {
     "data": {
      "image/png": "[encoded data removed]",
      "text/plain": [
       "<Figure size 504x576 with 2 Axes>"
      ]
     },
     "metadata": {
      "needs_background": "light"
     },
     "output_type": "display_data"
    }
   ],
   "source": [
    "SpaceServer_cor=SpaceServer_new.corr()\n",
    "plt.figure(figsize=(7,8))\n",
    "sns.heatmap(SpaceServer_cor,annot=True)\n",
    "plt.plot()"
   ]
  },
  {
   "cell_type": "code",
   "execution_count": 75,
   "metadata": {},
   "outputs": [
    {
     "data": {
      "text/html": [
       "<div>\n",
       "<style scoped>\n",
       "    .dataframe tbody tr th:only-of-type {\n",
       "        vertical-align: middle;\n",
       "    }\n",
       "\n",
       "    .dataframe tbody tr th {\n",
       "        vertical-align: top;\n",
       "    }\n",
       "\n",
       "    .dataframe thead th {\n",
       "        text-align: right;\n",
       "    }\n",
       "</style>\n",
       "<table border=\"1\" class=\"dataframe\">\n",
       "  <thead>\n",
       "    <tr style=\"text-align: right;\">\n",
       "      <th></th>\n",
       "      <th>class</th>\n",
       "      <th>redshift</th>\n",
       "      <th>plate</th>\n",
       "      <th>mjd</th>\n",
       "      <th>fiberid</th>\n",
       "    </tr>\n",
       "  </thead>\n",
       "  <tbody>\n",
       "    <tr>\n",
       "      <th>0</th>\n",
       "      <td>2</td>\n",
       "      <td>-0.000009</td>\n",
       "      <td>8.103797</td>\n",
       "      <td>10.913687</td>\n",
       "      <td>491</td>\n",
       "    </tr>\n",
       "    <tr>\n",
       "      <th>1</th>\n",
       "      <td>2</td>\n",
       "      <td>-0.000055</td>\n",
       "      <td>5.780744</td>\n",
       "      <td>10.851587</td>\n",
       "      <td>541</td>\n",
       "    </tr>\n",
       "    <tr>\n",
       "      <th>2</th>\n",
       "      <td>0</td>\n",
       "      <td>0.116103</td>\n",
       "      <td>5.662960</td>\n",
       "      <td>10.859460</td>\n",
       "      <td>513</td>\n",
       "    </tr>\n",
       "    <tr>\n",
       "      <th>3</th>\n",
       "      <td>2</td>\n",
       "      <td>-0.000111</td>\n",
       "      <td>8.103797</td>\n",
       "      <td>10.913687</td>\n",
       "      <td>510</td>\n",
       "    </tr>\n",
       "    <tr>\n",
       "      <th>4</th>\n",
       "      <td>2</td>\n",
       "      <td>0.000590</td>\n",
       "      <td>8.103797</td>\n",
       "      <td>10.913687</td>\n",
       "      <td>512</td>\n",
       "    </tr>\n",
       "    <tr>\n",
       "      <th>...</th>\n",
       "      <td>...</td>\n",
       "      <td>...</td>\n",
       "      <td>...</td>\n",
       "      <td>...</td>\n",
       "      <td>...</td>\n",
       "    </tr>\n",
       "    <tr>\n",
       "      <th>9995</th>\n",
       "      <td>0</td>\n",
       "      <td>0.027209</td>\n",
       "      <td>6.104793</td>\n",
       "      <td>10.856650</td>\n",
       "      <td>246</td>\n",
       "    </tr>\n",
       "    <tr>\n",
       "      <th>9996</th>\n",
       "      <td>0</td>\n",
       "      <td>0.111338</td>\n",
       "      <td>6.104793</td>\n",
       "      <td>10.856650</td>\n",
       "      <td>228</td>\n",
       "    </tr>\n",
       "    <tr>\n",
       "      <th>9997</th>\n",
       "      <td>2</td>\n",
       "      <td>-0.000402</td>\n",
       "      <td>8.896177</td>\n",
       "      <td>10.951052</td>\n",
       "      <td>622</td>\n",
       "    </tr>\n",
       "    <tr>\n",
       "      <th>9998</th>\n",
       "      <td>0</td>\n",
       "      <td>0.013922</td>\n",
       "      <td>6.104793</td>\n",
       "      <td>10.856650</td>\n",
       "      <td>229</td>\n",
       "    </tr>\n",
       "    <tr>\n",
       "      <th>9999</th>\n",
       "      <td>0</td>\n",
       "      <td>0.111915</td>\n",
       "      <td>6.104793</td>\n",
       "      <td>10.856650</td>\n",
       "      <td>233</td>\n",
       "    </tr>\n",
       "  </tbody>\n",
       "</table>\n",
       "<p>9497 rows × 5 columns</p>\n",
       "</div>"
      ],
      "text/plain": [
       "      class  redshift     plate        mjd  fiberid\n",
       "0         2 -0.000009  8.103797  10.913687      491\n",
       "1         2 -0.000055  5.780744  10.851587      541\n",
       "2         0  0.116103  5.662960  10.859460      513\n",
       "3         2 -0.000111  8.103797  10.913687      510\n",
       "4         2  0.000590  8.103797  10.913687      512\n",
       "...     ...       ...       ...        ...      ...\n",
       "9995      0  0.027209  6.104793  10.856650      246\n",
       "9996      0  0.111338  6.104793  10.856650      228\n",
       "9997      2 -0.000402  8.896177  10.951052      622\n",
       "9998      0  0.013922  6.104793  10.856650      229\n",
       "9999      0  0.111915  6.104793  10.856650      233\n",
       "\n",
       "[9497 rows x 5 columns]"
      ]
     },
     "execution_count": 75,
     "metadata": {},
     "output_type": "execute_result"
    }
   ],
   "source": [
    "SpaceServer_new"
   ]
  },
  {
   "cell_type": "code",
   "execution_count": 76,
   "metadata": {},
   "outputs": [],
   "source": [
    "x=SpaceServer.iloc[:,1:4].values\n",
    "y=SpaceServer.iloc[:,0].values"
   ]
  },
  {
   "cell_type": "code",
   "execution_count": 77,
   "metadata": {},
   "outputs": [
    {
     "name": "stdout",
     "output_type": "stream",
     "text": [
      "accuracy score correspond to random state  80 is 0.9755\n",
      "accuracy score correspond to random state  80 is 0.98\n",
      "accuracy score correspond to random state  80 is 0.9875\n",
      "accuracy score correspond to random state  80 is 0.979\n",
      "accuracy score correspond to random state  80 is 0.9735\n",
      "accuracy score correspond to random state  80 is 0.985\n",
      "accuracy score correspond to random state  81 is 0.976\n",
      "accuracy score correspond to random state  81 is 0.981\n",
      "accuracy score correspond to random state  81 is 0.982\n",
      "accuracy score correspond to random state  81 is 0.98\n",
      "accuracy score correspond to random state  81 is 0.9735\n",
      "accuracy score correspond to random state  81 is 0.9855\n",
      "accuracy score correspond to random state  82 is 0.981\n",
      "accuracy score correspond to random state  82 is 0.9815\n",
      "accuracy score correspond to random state  82 is 0.9795\n",
      "accuracy score correspond to random state  82 is 0.982\n",
      "accuracy score correspond to random state  82 is 0.9765\n",
      "accuracy score correspond to random state  82 is 0.9845\n",
      "accuracy score correspond to random state  83 is 0.976\n",
      "accuracy score correspond to random state  83 is 0.979\n",
      "accuracy score correspond to random state  83 is 0.9855\n",
      "accuracy score correspond to random state  83 is 0.978\n",
      "accuracy score correspond to random state  83 is 0.973\n",
      "accuracy score correspond to random state  83 is 0.986\n",
      "accuracy score correspond to random state  84 is 0.973\n",
      "accuracy score correspond to random state  84 is 0.9805\n",
      "accuracy score correspond to random state  84 is 0.9785\n",
      "accuracy score correspond to random state  84 is 0.9755\n",
      "accuracy score correspond to random state  84 is 0.9715\n",
      "accuracy score correspond to random state  84 is 0.984\n",
      "accuracy score correspond to random state  85 is 0.9775\n",
      "accuracy score correspond to random state  85 is 0.985\n",
      "accuracy score correspond to random state  85 is 0.983\n",
      "accuracy score correspond to random state  85 is 0.9775\n",
      "accuracy score correspond to random state  85 is 0.974\n",
      "accuracy score correspond to random state  85 is 0.9875\n",
      "accuracy score correspond to random state  86 is 0.975\n",
      "accuracy score correspond to random state  86 is 0.9845\n",
      "accuracy score correspond to random state  86 is 0.983\n",
      "accuracy score correspond to random state  86 is 0.978\n",
      "accuracy score correspond to random state  86 is 0.97\n",
      "accuracy score correspond to random state  86 is 0.9825\n",
      "accuracy score correspond to random state  87 is 0.9775\n",
      "accuracy score correspond to random state  87 is 0.9865\n",
      "accuracy score correspond to random state  87 is 0.983\n",
      "accuracy score correspond to random state  87 is 0.978\n",
      "accuracy score correspond to random state  87 is 0.972\n",
      "accuracy score correspond to random state  87 is 0.9845\n",
      "accuracy score correspond to random state  88 is 0.977\n",
      "accuracy score correspond to random state  88 is 0.987\n",
      "accuracy score correspond to random state  88 is 0.985\n",
      "accuracy score correspond to random state  88 is 0.979\n",
      "accuracy score correspond to random state  88 is 0.977\n",
      "accuracy score correspond to random state  88 is 0.9875\n",
      "accuracy score correspond to random state  89 is 0.971\n",
      "accuracy score correspond to random state  89 is 0.98\n",
      "accuracy score correspond to random state  89 is 0.979\n",
      "accuracy score correspond to random state  89 is 0.978\n",
      "accuracy score correspond to random state  89 is 0.9725\n",
      "accuracy score correspond to random state  89 is 0.977\n",
      "\n",
      "\n",
      "\n",
      "\n",
      "max accuracy score correspond to random state 80 is 0.9875 and model is KNeighborsClassifier(algorithm='auto', leaf_size=30, metric='minkowski',\n",
      "                     metric_params=None, n_jobs=None, n_neighbors=5, p=2,\n",
      "                     weights='uniform')\n"
     ]
    }
   ],
   "source": [
    "model = [LogisticRegression(),DecisionTreeClassifier(),KNeighborsClassifier(),SVC(kernel = 'rbf', random_state = 0),GaussianNB(),RandomForestClassifier(n_estimators = 10, criterion = 'entropy', random_state = 0)]\n",
    "max_accuracy_score=0\n",
    "for r_state in range(80,90):\n",
    "    x_train , x_test , y_train, y_test = train_test_split(x,y,random_state=r_state,test_size=0.20)\n",
    "    sc = StandardScaler()\n",
    "    x_train = sc.fit_transform(x_train)\n",
    "    x_test = sc.transform(x_test)\n",
    "    for i_c in model:\n",
    "        i_c.fit(x_train,y_train)\n",
    "        pre_c=i_c.predict(x_test)\n",
    "        ac_score=accuracy_score(y_test,pre_c)\n",
    "        print (\"accuracy score correspond to random state \" ,r_state,'is',ac_score)\n",
    "        if ac_score>max_accuracy_score:\n",
    "            max_accuracy_score=ac_score\n",
    "            final_state=r_state\n",
    "            final_model=i_c\n",
    "\n",
    "print()\n",
    "print()\n",
    "print()\n",
    "print()\n",
    "\n",
    "print('max accuracy score correspond to random state',final_state,'is',max_accuracy_score,'and model is',final_model)"
   ]
  },
  {
   "cell_type": "code",
   "execution_count": 78,
   "metadata": {},
   "outputs": [
    {
     "name": "stdout",
     "output_type": "stream",
     "text": [
      "Accuracy Score: 98.35000000000001\n"
     ]
    }
   ],
   "source": [
    "x_train,x_test,y_train,y_test = train_test_split(x,y,random_state=83,test_size=0.20)\n",
    "KNN=KNeighborsClassifier(algorithm='auto', leaf_size=30, metric='minkowski',\n",
    "                     metric_params=None, n_jobs=None, n_neighbors=5, p=2,\n",
    "                     weights='uniform')\n",
    "KNN.fit(x_train,y_train)\n",
    "predictionregion=KNN.predict(x_test)\n",
    "auc_score=accuracy_score(y_test,predictionregion)\n",
    "print('Accuracy Score:',auc_score*100)"
   ]
  },
  {
   "cell_type": "code",
   "execution_count": 79,
   "metadata": {},
   "outputs": [
    {
     "name": "stdout",
     "output_type": "stream",
     "text": [
      "Mean Absolute Error:  0.034\n",
      "Mean Squared Error:  0.053\n",
      "Root Mean Absolute Error:  0.18439088914585774\n"
     ]
    }
   ],
   "source": [
    "print ('Mean Absolute Error: ',mean_absolute_error(test_y,prediction))\n",
    "print ('Mean Squared Error: ',mean_squared_error(test_y,prediction))\n",
    "print ('Root Mean Absolute Error: ',np.sqrt(mean_absolute_error(test_y,prediction)))"
   ]
  },
  {
   "cell_type": "code",
   "execution_count": 80,
   "metadata": {},
   "outputs": [
    {
     "name": "stdout",
     "output_type": "stream",
     "text": [
      "Cross Val Score: 98.07000000000001\n",
      "Mean Score: 98.07000000000001\n",
      "STD Score: 0.0\n"
     ]
    }
   ],
   "source": [
    "score=cross_val_score(KNN,x,y,scoring='accuracy').mean()\n",
    "print('Cross Val Score:',score*100)\n",
    "print('Mean Score:',score.mean()*100)\n",
    "print('STD Score:',score.std())"
   ]
  },
  {
   "cell_type": "markdown",
   "metadata": {},
   "source": [
    "### We are able to predict the class with 98.35 % accuracy"
   ]
  },
  {
   "cell_type": "code",
   "execution_count": null,
   "metadata": {},
   "outputs": [],
   "source": []
  }
 ],
 "metadata": {
  "kernelspec": {
   "display_name": "Python 3",
   "language": "python",
   "name": "python3"
  },
  "language_info": {
   "codemirror_mode": {
    "name": "ipython",
    "version": 3
   },
   "file_extension": ".py",
   "mimetype": "text/x-python",
   "name": "python",
   "nbconvert_exporter": "python",
   "pygments_lexer": "ipython3",
   "version": "3.7.6"
  }
 },
 "nbformat": 4,
 "nbformat_minor": 4
}
